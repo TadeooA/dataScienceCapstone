{
 "cells": [
  {
   "cell_type": "markdown",
   "metadata": {},
   "source": [
    "# Tesla Stock Data Collection\n",
    "## Applied Data Science Capstone Project\n",
    "\n",
    "**Objective**: Collect Tesla stock data and related market information for predictive analysis\n",
    "\n",
    "**Data Sources**:\n",
    "- Yahoo Finance API (stock prices)\n",
    "- News sentiment data\n",
    "- Market indices (S&P 500, NASDAQ)\n",
    "- Tesla financial reports"
   ]
  },
  {
   "cell_type": "code",
   "metadata": {
    "ExecuteTime": {
     "end_time": "2025-08-13T08:48:45.801012Z",
     "start_time": "2025-08-13T08:48:45.792011Z"
    }
   },
   "source": [
    "# Import required libraries\n",
    "import yfinance as yf\n",
    "import pandas as pd\n",
    "import numpy as np\n",
    "import requests\n",
    "import json\n",
    "from datetime import datetime, timedelta\n",
    "import warnings\n",
    "warnings.filterwarnings('ignore')\n",
    "\n",
    "# Display settings\n",
    "pd.set_option('display.max_columns', None)\n",
    "pd.set_option('display.max_rows', 10)"
   ],
   "outputs": [],
   "execution_count": 7
  },
  {
   "cell_type": "markdown",
   "metadata": {},
   "source": [
    "## 1. Tesla Stock Data Collection"
   ]
  },
  {
   "cell_type": "code",
   "metadata": {
    "ExecuteTime": {
     "end_time": "2025-08-13T08:48:45.816011Z",
     "start_time": "2025-08-13T08:48:45.808012Z"
    }
   },
   "source": [
    "# Define Tesla ticker and collection period\n",
    "TESLA_SYMBOL = \"TSLA\"\n",
    "START_DATE = \"2020-01-01\"\n",
    "END_DATE = datetime.now().strftime(\"%Y-%m-%d\")\n",
    "\n",
    "print(f\"Collecting Tesla ({TESLA_SYMBOL}) data from {START_DATE} to {END_DATE}\")"
   ],
   "outputs": [
    {
     "name": "stdout",
     "output_type": "stream",
     "text": [
      "Collecting Tesla (TSLA) data from 2020-01-01 to 2025-08-13\n"
     ]
    }
   ],
   "execution_count": 8
  },
  {
   "cell_type": "code",
   "metadata": {
    "ExecuteTime": {
     "end_time": "2025-08-13T08:48:45.862011Z",
     "start_time": "2025-08-13T08:48:45.823011Z"
    }
   },
   "source": [
    "# Fetch Tesla stock data\n",
    "def get_stock_data(symbol, start_date, end_date):\n",
    "    \"\"\"\n",
    "    Fetch stock data using yfinance\n",
    "    \"\"\"\n",
    "    try:\n",
    "        ticker = yf.Ticker(symbol)\n",
    "        data = ticker.history(start=start_date, end=end_date)\n",
    "        \n",
    "        # Add some basic calculated fields\n",
    "        data['Daily_Return'] = data['Close'].pct_change()\n",
    "        data['Price_Range'] = data['High'] - data['Low']\n",
    "        data['Price_Change'] = data['Close'] - data['Open']\n",
    "        \n",
    "        return data\n",
    "    except Exception as e:\n",
    "        print(f\"Error fetching data for {symbol}: {e}\")\n",
    "        return None\n",
    "\n",
    "# Get Tesla data\n",
    "tesla_data = get_stock_data(TESLA_SYMBOL, START_DATE, END_DATE)\n",
    "print(f\"Tesla data shape: {tesla_data.shape}\")\n",
    "tesla_data.head()"
   ],
   "outputs": [
    {
     "name": "stdout",
     "output_type": "stream",
     "text": [
      "Tesla data shape: (1410, 10)\n"
     ]
    },
    {
     "data": {
      "text/plain": [
       "                                Open       High        Low      Close  \\\n",
       "Date                                                                    \n",
       "2020-01-02 00:00:00-05:00  28.299999  28.713333  28.114000  28.684000   \n",
       "2020-01-03 00:00:00-05:00  29.366667  30.266666  29.128000  29.534000   \n",
       "2020-01-06 00:00:00-05:00  29.364668  30.104000  29.333332  30.102667   \n",
       "2020-01-07 00:00:00-05:00  30.760000  31.441999  30.224001  31.270666   \n",
       "2020-01-08 00:00:00-05:00  31.580000  33.232666  31.215334  32.809334   \n",
       "\n",
       "                              Volume  Dividends  Stock Splits  Daily_Return  \\\n",
       "Date                                                                          \n",
       "2020-01-02 00:00:00-05:00  142981500        0.0           0.0           NaN   \n",
       "2020-01-03 00:00:00-05:00  266677500        0.0           0.0      0.029633   \n",
       "2020-01-06 00:00:00-05:00  151995000        0.0           0.0      0.019255   \n",
       "2020-01-07 00:00:00-05:00  268231500        0.0           0.0      0.038801   \n",
       "2020-01-08 00:00:00-05:00  467164500        0.0           0.0      0.049205   \n",
       "\n",
       "                           Price_Range  Price_Change  \n",
       "Date                                                  \n",
       "2020-01-02 00:00:00-05:00     0.599333      0.384001  \n",
       "2020-01-03 00:00:00-05:00     1.138666      0.167334  \n",
       "2020-01-06 00:00:00-05:00     0.770668      0.737999  \n",
       "2020-01-07 00:00:00-05:00     1.217999      0.510666  \n",
       "2020-01-08 00:00:00-05:00     2.017332      1.229334  "
      ],
      "text/html": [
       "<div>\n",
       "<style scoped>\n",
       "    .dataframe tbody tr th:only-of-type {\n",
       "        vertical-align: middle;\n",
       "    }\n",
       "\n",
       "    .dataframe tbody tr th {\n",
       "        vertical-align: top;\n",
       "    }\n",
       "\n",
       "    .dataframe thead th {\n",
       "        text-align: right;\n",
       "    }\n",
       "</style>\n",
       "<table border=\"1\" class=\"dataframe\">\n",
       "  <thead>\n",
       "    <tr style=\"text-align: right;\">\n",
       "      <th></th>\n",
       "      <th>Open</th>\n",
       "      <th>High</th>\n",
       "      <th>Low</th>\n",
       "      <th>Close</th>\n",
       "      <th>Volume</th>\n",
       "      <th>Dividends</th>\n",
       "      <th>Stock Splits</th>\n",
       "      <th>Daily_Return</th>\n",
       "      <th>Price_Range</th>\n",
       "      <th>Price_Change</th>\n",
       "    </tr>\n",
       "    <tr>\n",
       "      <th>Date</th>\n",
       "      <th></th>\n",
       "      <th></th>\n",
       "      <th></th>\n",
       "      <th></th>\n",
       "      <th></th>\n",
       "      <th></th>\n",
       "      <th></th>\n",
       "      <th></th>\n",
       "      <th></th>\n",
       "      <th></th>\n",
       "    </tr>\n",
       "  </thead>\n",
       "  <tbody>\n",
       "    <tr>\n",
       "      <th>2020-01-02 00:00:00-05:00</th>\n",
       "      <td>28.299999</td>\n",
       "      <td>28.713333</td>\n",
       "      <td>28.114000</td>\n",
       "      <td>28.684000</td>\n",
       "      <td>142981500</td>\n",
       "      <td>0.0</td>\n",
       "      <td>0.0</td>\n",
       "      <td>NaN</td>\n",
       "      <td>0.599333</td>\n",
       "      <td>0.384001</td>\n",
       "    </tr>\n",
       "    <tr>\n",
       "      <th>2020-01-03 00:00:00-05:00</th>\n",
       "      <td>29.366667</td>\n",
       "      <td>30.266666</td>\n",
       "      <td>29.128000</td>\n",
       "      <td>29.534000</td>\n",
       "      <td>266677500</td>\n",
       "      <td>0.0</td>\n",
       "      <td>0.0</td>\n",
       "      <td>0.029633</td>\n",
       "      <td>1.138666</td>\n",
       "      <td>0.167334</td>\n",
       "    </tr>\n",
       "    <tr>\n",
       "      <th>2020-01-06 00:00:00-05:00</th>\n",
       "      <td>29.364668</td>\n",
       "      <td>30.104000</td>\n",
       "      <td>29.333332</td>\n",
       "      <td>30.102667</td>\n",
       "      <td>151995000</td>\n",
       "      <td>0.0</td>\n",
       "      <td>0.0</td>\n",
       "      <td>0.019255</td>\n",
       "      <td>0.770668</td>\n",
       "      <td>0.737999</td>\n",
       "    </tr>\n",
       "    <tr>\n",
       "      <th>2020-01-07 00:00:00-05:00</th>\n",
       "      <td>30.760000</td>\n",
       "      <td>31.441999</td>\n",
       "      <td>30.224001</td>\n",
       "      <td>31.270666</td>\n",
       "      <td>268231500</td>\n",
       "      <td>0.0</td>\n",
       "      <td>0.0</td>\n",
       "      <td>0.038801</td>\n",
       "      <td>1.217999</td>\n",
       "      <td>0.510666</td>\n",
       "    </tr>\n",
       "    <tr>\n",
       "      <th>2020-01-08 00:00:00-05:00</th>\n",
       "      <td>31.580000</td>\n",
       "      <td>33.232666</td>\n",
       "      <td>31.215334</td>\n",
       "      <td>32.809334</td>\n",
       "      <td>467164500</td>\n",
       "      <td>0.0</td>\n",
       "      <td>0.0</td>\n",
       "      <td>0.049205</td>\n",
       "      <td>2.017332</td>\n",
       "      <td>1.229334</td>\n",
       "    </tr>\n",
       "  </tbody>\n",
       "</table>\n",
       "</div>"
      ]
     },
     "execution_count": 9,
     "metadata": {},
     "output_type": "execute_result"
    }
   ],
   "execution_count": 9
  }
 ],
 "metadata": {
  "kernelspec": {
   "display_name": "Python 3",
   "language": "python",
   "name": "python3"
  },
  "language_info": {
   "codemirror_mode": {
    "name": "ipython",
    "version": 3
   },
   "file_extension": ".py",
   "mimetype": "text/x-python",
   "name": "python",
   "nbconvert_exporter": "python",
   "pygments_lexer": "ipython3",
   "version": "3.8.5"
  }
 },
 "nbformat": 4,
 "nbformat_minor": 4
}
